{
 "cells": [
  {
   "cell_type": "markdown",
   "metadata": {},
   "source": [
    "## BOOK RECOMMENDER SYSTEM BASED ON SUMMARY"
   ]
  },
  {
   "cell_type": "markdown",
   "metadata": {},
   "source": [
    "My team won BrainStation 3D Hackathon in partnership with EY with project BookHero, an app that helps drive revenue for bookstores by increasing customer engagement.<br>\n",
    "I had a chance to work with Web Development Team, UX and EY team. It was a great experience.<br> \n",
    "Data Science team, my teammate - Louell Uy defined the problem that in-store book sales have recently been decreasing and have been hit especially hard by COVID-19. And I have built a book recommender system.<br>\n",
    "My question was how to bring the results to the front-end. That's why I want to try to build a simple web app in this project to give book recommendations to users.<br>"
   ]
  },
  {
   "cell_type": "markdown",
   "metadata": {},
   "source": [
    "Here is the workflow:\n",
    "1. Read data from txt file\n",
    "2. Normalize summary (remove special character, stop word... in summary)\n",
    "3. Extract TF-IDF Features\n",
    "4. Generate cosine similarity\n",
    "5. Extract data from cosine similarity to use in web app (due to memory issue in flask app, only first 5000 rows was extracted)"
   ]
  },
  {
   "cell_type": "code",
   "execution_count": 1,
   "metadata": {},
   "outputs": [],
   "source": [
    "# import packages\n",
    "import numpy as np\n",
    "import pandas as pd\n",
    "import matplotlib.pyplot as plt\n",
    "import seaborn as sns\n",
    "from sklearn.feature_extraction.text import TfidfVectorizer\n",
    "import contractions\n",
    "from nlppreprocess import NLP\n",
    "from sklearn.metrics.pairwise import linear_kernel      #faster than cosine_similarity\n",
    "import missingno as msno\n",
    "import re\n",
    "import warnings\n",
    "warnings.filterwarnings('ignore')\n",
    "\n",
    "%matplotlib inline\n",
    "plt.rcParams['figure.figsize'] = (8.0, 6.0) #setting figure size"
   ]
  },
  {
   "cell_type": "markdown",
   "metadata": {},
   "source": [
    "### 1. Read data from txt file"
   ]
  },
  {
   "cell_type": "code",
   "execution_count": 2,
   "metadata": {},
   "outputs": [
    {
     "data": {
      "text/html": [
       "<div>\n",
       "<style scoped>\n",
       "    .dataframe tbody tr th:only-of-type {\n",
       "        vertical-align: middle;\n",
       "    }\n",
       "\n",
       "    .dataframe tbody tr th {\n",
       "        vertical-align: top;\n",
       "    }\n",
       "\n",
       "    .dataframe thead th {\n",
       "        text-align: right;\n",
       "    }\n",
       "</style>\n",
       "<table border=\"1\" class=\"dataframe\">\n",
       "  <thead>\n",
       "    <tr style=\"text-align: right;\">\n",
       "      <th></th>\n",
       "      <th>BookID</th>\n",
       "      <th>Unknown</th>\n",
       "      <th>Title</th>\n",
       "      <th>Author</th>\n",
       "      <th>Published Date</th>\n",
       "      <th>Tags</th>\n",
       "      <th>Summary</th>\n",
       "    </tr>\n",
       "  </thead>\n",
       "  <tbody>\n",
       "    <tr>\n",
       "      <th>0</th>\n",
       "      <td>620</td>\n",
       "      <td>/m/0hhy</td>\n",
       "      <td>Animal Farm</td>\n",
       "      <td>George Orwell</td>\n",
       "      <td>1945-08-17</td>\n",
       "      <td>{\"/m/016lj8\": \"Roman \\u00e0 clef\", \"/m/06nbt\":...</td>\n",
       "      <td>Old Major, the old boar on the Manor Farm, ca...</td>\n",
       "    </tr>\n",
       "    <tr>\n",
       "      <th>1</th>\n",
       "      <td>843</td>\n",
       "      <td>/m/0k36</td>\n",
       "      <td>A Clockwork Orange</td>\n",
       "      <td>Anthony Burgess</td>\n",
       "      <td>1962</td>\n",
       "      <td>{\"/m/06n90\": \"Science Fiction\", \"/m/0l67h\": \"N...</td>\n",
       "      <td>Alex, a teenager living in near-future Englan...</td>\n",
       "    </tr>\n",
       "    <tr>\n",
       "      <th>2</th>\n",
       "      <td>986</td>\n",
       "      <td>/m/0ldx</td>\n",
       "      <td>The Plague</td>\n",
       "      <td>Albert Camus</td>\n",
       "      <td>1947</td>\n",
       "      <td>{\"/m/02m4t\": \"Existentialism\", \"/m/02xlf\": \"Fi...</td>\n",
       "      <td>The text of The Plague is divided into five p...</td>\n",
       "    </tr>\n",
       "    <tr>\n",
       "      <th>3</th>\n",
       "      <td>1756</td>\n",
       "      <td>/m/0sww</td>\n",
       "      <td>An Enquiry Concerning Human Understanding</td>\n",
       "      <td>David Hume</td>\n",
       "      <td>NaN</td>\n",
       "      <td>NaN</td>\n",
       "      <td>The argument of the Enquiry proceeds by a ser...</td>\n",
       "    </tr>\n",
       "    <tr>\n",
       "      <th>4</th>\n",
       "      <td>2080</td>\n",
       "      <td>/m/0wkt</td>\n",
       "      <td>A Fire Upon the Deep</td>\n",
       "      <td>Vernor Vinge</td>\n",
       "      <td>NaN</td>\n",
       "      <td>{\"/m/03lrw\": \"Hard science fiction\", \"/m/06n90...</td>\n",
       "      <td>The novel posits that space around the Milky ...</td>\n",
       "    </tr>\n",
       "  </tbody>\n",
       "</table>\n",
       "</div>"
      ],
      "text/plain": [
       "   BookID  Unknown                                      Title  \\\n",
       "0     620  /m/0hhy                                Animal Farm   \n",
       "1     843  /m/0k36                         A Clockwork Orange   \n",
       "2     986  /m/0ldx                                 The Plague   \n",
       "3    1756  /m/0sww  An Enquiry Concerning Human Understanding   \n",
       "4    2080  /m/0wkt                       A Fire Upon the Deep   \n",
       "\n",
       "            Author Published Date  \\\n",
       "0    George Orwell     1945-08-17   \n",
       "1  Anthony Burgess           1962   \n",
       "2     Albert Camus           1947   \n",
       "3       David Hume            NaN   \n",
       "4     Vernor Vinge            NaN   \n",
       "\n",
       "                                                Tags  \\\n",
       "0  {\"/m/016lj8\": \"Roman \\u00e0 clef\", \"/m/06nbt\":...   \n",
       "1  {\"/m/06n90\": \"Science Fiction\", \"/m/0l67h\": \"N...   \n",
       "2  {\"/m/02m4t\": \"Existentialism\", \"/m/02xlf\": \"Fi...   \n",
       "3                                                NaN   \n",
       "4  {\"/m/03lrw\": \"Hard science fiction\", \"/m/06n90...   \n",
       "\n",
       "                                             Summary  \n",
       "0   Old Major, the old boar on the Manor Farm, ca...  \n",
       "1   Alex, a teenager living in near-future Englan...  \n",
       "2   The text of The Plague is divided into five p...  \n",
       "3   The argument of the Enquiry proceeds by a ser...  \n",
       "4   The novel posits that space around the Milky ...  "
      ]
     },
     "execution_count": 2,
     "metadata": {},
     "output_type": "execute_result"
    }
   ],
   "source": [
    "book_df = pd.read_csv('booksummaries.txt',error_bad_lines=False,delimiter=\"\\t\",header=None,\\\n",
    "                      names=[\"BookID\", \"Unknown\", \"Title\",\"Author\",\"Published Date\",\"Tags\",\"Summary\"])\n",
    "book_df.head()"
   ]
  },
  {
   "cell_type": "code",
   "execution_count": 3,
   "metadata": {},
   "outputs": [
    {
     "name": "stdout",
     "output_type": "stream",
     "text": [
      "<class 'pandas.core.frame.DataFrame'>\n",
      "RangeIndex: 16559 entries, 0 to 16558\n",
      "Data columns (total 7 columns):\n",
      " #   Column          Non-Null Count  Dtype \n",
      "---  ------          --------------  ----- \n",
      " 0   BookID          16559 non-null  int64 \n",
      " 1   Unknown         16559 non-null  object\n",
      " 2   Title           16559 non-null  object\n",
      " 3   Author          14177 non-null  object\n",
      " 4   Published Date  10949 non-null  object\n",
      " 5   Tags            12841 non-null  object\n",
      " 6   Summary         16559 non-null  object\n",
      "dtypes: int64(1), object(6)\n",
      "memory usage: 905.7+ KB\n"
     ]
    }
   ],
   "source": [
    "book_df.info()"
   ]
  },
  {
   "cell_type": "code",
   "execution_count": 4,
   "metadata": {},
   "outputs": [
    {
     "data": {
      "text/plain": [
       "<matplotlib.axes._subplots.AxesSubplot at 0x231ad610518>"
      ]
     },
     "execution_count": 4,
     "metadata": {},
     "output_type": "execute_result"
    },
    {
     "data": {
      "image/png": "[encoded data removed]",
      "text/plain": [
       "<Figure size 1800x720 with 2 Axes>"
      ]
     },
     "metadata": {
      "needs_background": "light"
     },
     "output_type": "display_data"
    }
   ],
   "source": [
    "#get missing value matrix\n",
    "msno.matrix(book_df)"
   ]
  },
  {
   "cell_type": "markdown",
   "metadata": {},
   "source": [
    "There are many missing value in columns Author, Published Date, Tags but I don't need that data for my book recommender so I will not do any thing with missing values."
   ]
  },
  {
   "cell_type": "code",
   "execution_count": 5,
   "metadata": {},
   "outputs": [
    {
     "data": {
      "text/plain": [
       "0"
      ]
     },
     "execution_count": 5,
     "metadata": {},
     "output_type": "execute_result"
    }
   ],
   "source": [
    "#check duplicate on BookID\n",
    "book_df[['BookID']].duplicated().sum()"
   ]
  },
  {
   "cell_type": "markdown",
   "metadata": {},
   "source": [
    "BookID is unique.<br> It means there is no duplicate in books as each book has a unique ID."
   ]
  },
  {
   "cell_type": "markdown",
   "metadata": {},
   "source": [
    "### 2. Normalize summary"
   ]
  },
  {
   "cell_type": "code",
   "execution_count": 6,
   "metadata": {},
   "outputs": [
    {
     "data": {
      "text/plain": [
       "' Old Major, the old boar on the Manor Farm, calls the animals on the farm for a meeting, where he compares the humans to parasites and teaches the animals a revolutionary song, \\'Beasts of England\\'. When Major dies, two young pigs, Snowball and Napoleon, assume command and turn his dream into a philosophy. The animals revolt and drive the drunken and irresponsible Mr Jones from the farm, renaming it \"Animal Farm\". They adopt Seven Commandments of Animal-ism, the most important of which is, \"All animals are equal\". Snowball attempts to teach the animals reading and writing; food is plentiful, and the farm runs smoothly. The pigs elevate themselves to positions of leadership and set aside special food items, ostensibly for their personal health. Napoleon takes the pups from the farm dogs and trains them privately. Napoleon and Snowball struggle for leadership. When Snowball announces his plans to build a windmill, Napoleon has his dogs chase Snowball away and declares himself leader. Napoleon enacts changes to the governance structure of the farm, replacing meetings with a committee of pigs, who will run the farm. Using a young pig named Squealer as a \"mouthpiece\", Napoleon claims credit for the windmill idea. The animals work harder with the promise of easier lives with the windmill. After a violent storm, the animals find the windmill annihilated. Napoleon and Squealer convince the animals that Snowball destroyed it, although the scorn of the neighbouring farmers suggests that its walls were too thin. Once Snowball becomes a scapegoat, Napoleon begins purging the farm with his dogs, killing animals he accuses of consorting with his old rival. He and the pigs abuse their power, imposing more control while reserving privileges for themselves and rewriting history, villainising Snowball and glorifying Napoleon. Squealer justifies every statement Napoleon makes, even the pigs\\' alteration of the Seven Commandments of Animalism to benefit themselves. \\'Beasts of England\\' is replaced by an anthem glorifying Napoleon, who appears to be adopting the lifestyle of a man. The animals remain convinced that they are better off than they were when under Mr Jones. Squealer abuses the animals\\' poor memories and invents numbers to show their improvement. Mr Frederick, one of the neighbouring farmers, attacks the farm, using blasting powder to blow up the restored windmill. Though the animals win the battle, they do so at great cost, as many, including Boxer the workhorse, are wounded. Despite his injuries, Boxer continues working harder and harder, until he collapses while working on the windmill. Napoleon sends for a van to take Boxer to the veterinary surgeon\\'s, explaining that better care can be given there. Benjamin, the cynical donkey, who \"could read as well as any pig\", notices that the van belongs to a knacker, and attempts to mount a rescue; but the animals\\' attempts are futile. Squealer reports that the van was purchased by the hospital and the writing from the previous owner had not been repainted. He recounts a tale of Boxer\\'s death in the hands of the best medical care. Years pass, and the pigs learn to walk upright, carry whips and wear clothes. The Seven Commandments are reduced to a single phrase: \"All animals are equal, but some animals are more equal than others\". Napoleon holds a dinner party for the pigs and the humans of the area, who congratulate Napoleon on having the hardest-working but least fed animals in the country. Napoleon announces an alliance with the humans, against the labouring classes of both \"worlds\". He abolishes practices and traditions related to the Revolution, and changes the name of the farm to \"The Manor Farm\". The animals, overhearing the conversation, notice that the faces of the pigs have begun changing. During a poker match, an argument breaks out between Napoleon and Mr Pilkington, and the animals realise that the faces of the pigs look like the faces of humans, and no one can tell the difference between them. The pigs Snowball, Napoleon, and Squealer adapt Old Major\\'s ideas into an actual philosophy, which they formally name Animalism. Soon after, Napoleon and Squealer indulge in the vices of humans (drinking alcohol, sleeping in beds, trading). Squealer is employed to alter the Seven Commandments to account for this humanisation, an allusion to the Soviet government\\'s revising of history in order to exercise control of the people\\'s beliefs about themselves and their society. The original commandments are: # Whatever goes upon two legs is an enemy. # Whatever goes upon four legs, or has wings, is a friend. # No animal shall wear clothes. # No animal shall sleep in a bed. # No animal shall drink alcohol. # No animal shall kill any other animal. # All animals are equal. Later, Napoleon and his pigs secretly revise some commandments to clear them of accusations of law-breaking (such as \"No animal shall drink alcohol\" having \"to excess\" appended to it and \"No animal shall sleep in a bed\" with \"with sheets\" added to it). The changed commandments are as follows, with the changes bolded: * 4 No animal shall sleep in a bed with sheets. * 5 No animal shall drink alcohol to excess. * 6 No animal shall kill any other animal without cause. Eventually these are replaced with the maxims, \"All animals are equal, but some animals are more equal than others\", and \"Four legs good, two legs better!\" as the pigs become more human. This is an ironic twist to the original purpose of the Seven Commandments, which were supposed to keep order within Animal Farm by uniting the animals together against the humans, and prevent animals from following the humans\\' evil habits. Through the revision of the commandments, Orwell demonstrates how simply political dogma can be turned into malleable propaganda.'"
      ]
     },
     "execution_count": 6,
     "metadata": {},
     "output_type": "execute_result"
    }
   ],
   "source": [
    "#read 1 summary\n",
    "book_df['Summary'][0]"
   ]
  },
  {
   "cell_type": "code",
   "execution_count": 7,
   "metadata": {},
   "outputs": [],
   "source": [
    "def normalize_sentence(sentence):\n",
    "    norm_sentence = contractions.fix(sentence) #convert \"isn't\" to \"is not\"\n",
    "    norm_sentence = re.sub(r'[^a-zA-Z\\s]', ' ', norm_sentence, re.I|re.A) #only get the words and white space, no special characters nor number\n",
    "    nlp = NLP()\n",
    "    norm_sentence = nlp.process(norm_sentence) #remove stop word but still keep \"not, no ...\"\n",
    "    norm_sentence = norm_sentence.lower() #conver to lower case\n",
    "    return norm_sentence"
   ]
  },
  {
   "cell_type": "code",
   "execution_count": 8,
   "metadata": {},
   "outputs": [
    {
     "data": {
      "text/plain": [
       "'old major old boar manor farm calls animals farm meeting where compares humans parasites and teaches animals revolutionary song beasts england when major dies two young pigs snowball and napoleon assume command and turn his dream into philosophy animals revolt and drive drunken and irresponsible mr jones from farm renaming animal farm they adopt seven commandments animal ism most important which animals are equal snowball attempts teach animals reading and writing food plentiful and farm runs smoothly pigs elevate themselves positions leadership and set aside special food items ostensibly their personal health napoleon takes pups from farm dogs and trains them privately napoleon and snowball struggle leadership when snowball announces his plans build windmill napoleon his dogs chase snowball away and declares himself leader napoleon enacts changes governance structure farm replacing meetings with committee pigs will run farm using young pig named squealer mouthpiece napoleon claims credit windmill idea animals work harder with promise easier lives with windmill after violent storm animals find windmill annihilated napoleon and squealer convince animals snowball destroyed although scorn neighbouring farmers suggests its walls too thin once snowball becomes scapegoat napoleon begins purging farm with his dogs killing animals accuses consorting with his old rival and pigs abuse their power imposing more control reserving privileges themselves and rewriting history villainising snowball and glorifying napoleon squealer justifies every statement napoleon makes even pigs alteration seven commandments animalism benefit themselves beasts england replaced by anthem glorifying napoleon appears adopting lifestyle man animals remain convinced they are better off than they when under mr jones squealer abuses animals poor memories and invents numbers show their improvement mr frederick one neighbouring farmers attacks farm using blasting powder blow up restored windmill though animals win battle they great cost many including boxer workhorse are wounded despite his injuries boxer continues working harder and harder collapses working windmill napoleon sends van take boxer veterinary surgeon s explaining better care can given there benjamin cynical donkey could read well pig notices van belongs knacker and attempts mount rescue but animals attempts are futile squealer reports van purchased by hospital and writing from previous owner had not been repainted recounts tale boxer s death in hands best medical care years pass and pigs learn walk upright carry whips and wear clothes seven commandments are reduced single phrase animals are equal but animals are more equal than others napoleon holds dinner party pigs and humans area congratulate napoleon having hardest working but least fed animals in country napoleon announces alliance with humans against labouring classes worlds abolishes practices and traditions related revolution and changes name farm manor farm animals overhearing conversation notice faces pigs begun changing during poker match argument breaks out napoleon and mr pilkington and animals realise faces pigs look like faces humans and no one can tell difference them pigs snowball napoleon and squealer adapt old major s ideas into actual philosophy which they formally name animalism soon after napoleon and squealer indulge in vices humans drinking alcohol sleeping in beds trading squealer employed alter seven commandments account humanisation allusion soviet government s revising history in order exercise control people s beliefs about themselves and their society original commandments are whatever goes upon two legs enemy whatever goes upon four legs wings friend no animal shall wear clothes no animal shall sleep in bed no animal shall drink alcohol no animal shall kill animal animals are equal later napoleon and his pigs secretly revise commandments clear them accusations law breaking such no animal shall drink alcohol having excess appended and no animal shall sleep in bed with with sheets added changed commandments are follows with changes bolded no animal shall sleep in bed with sheets no animal shall drink alcohol excess no animal shall kill animal without because eventually these are replaced with maxims animals are equal but animals are more equal than others and four legs good two legs better pigs become more human ironic twist original purpose seven commandments which supposed keep order within animal farm by uniting animals together against humans and prevent animals from following humans evil habits through revision commandments orwell demonstrates how simply political dogma can turned into malleable propaganda'"
      ]
     },
     "execution_count": 8,
     "metadata": {},
     "output_type": "execute_result"
    }
   ],
   "source": [
    "#summary after normalization\n",
    "normalize_sentence(book_df['Summary'][0])"
   ]
  },
  {
   "cell_type": "code",
   "execution_count": 9,
   "metadata": {},
   "outputs": [],
   "source": [
    "#generalize function for doc (an array of sentences instead of one sentence)\n",
    "normalize_doc = np.vectorize(normalize_sentence)"
   ]
  },
  {
   "cell_type": "code",
   "execution_count": 10,
   "metadata": {},
   "outputs": [],
   "source": [
    "book_df['Norm_summary'] = normalize_doc(book_df['Summary'])\n",
    "#equal to \n",
    "#book_df['Norm_summary'] = [normalize_sentence(sent) for sent in book_df['Summary']]"
   ]
  },
  {
   "cell_type": "markdown",
   "metadata": {},
   "source": [
    "### 3. Extract TF-IDF Features"
   ]
  },
  {
   "cell_type": "code",
   "execution_count": 11,
   "metadata": {},
   "outputs": [
    {
     "data": {
      "text/plain": [
       "(16559, 140233)"
      ]
     },
     "execution_count": 11,
     "metadata": {},
     "output_type": "execute_result"
    }
   ],
   "source": [
    "tfidf = TfidfVectorizer(ngram_range=(1,2), min_df=5)\n",
    "tfidf_matrix = tfidf.fit_transform(book_df['Norm_summary'])\n",
    "tfidf_matrix.shape"
   ]
  },
  {
   "cell_type": "markdown",
   "metadata": {},
   "source": [
    "### 4. Compute Pairwise Cosine Similarity"
   ]
  },
  {
   "cell_type": "code",
   "execution_count": 12,
   "metadata": {},
   "outputs": [
    {
     "data": {
      "text/plain": [
       "(16559, 16559)"
      ]
     },
     "execution_count": 12,
     "metadata": {},
     "output_type": "execute_result"
    }
   ],
   "source": [
    "cos_similarity = linear_kernel(tfidf_matrix, tfidf_matrix)\n",
    "cos_similarity.shape"
   ]
  },
  {
   "cell_type": "code",
   "execution_count": 13,
   "metadata": {},
   "outputs": [
    {
     "data": {
      "text/html": [
       "<div>\n",
       "<style scoped>\n",
       "    .dataframe tbody tr th:only-of-type {\n",
       "        vertical-align: middle;\n",
       "    }\n",
       "\n",
       "    .dataframe tbody tr th {\n",
       "        vertical-align: top;\n",
       "    }\n",
       "\n",
       "    .dataframe thead th {\n",
       "        text-align: right;\n",
       "    }\n",
       "</style>\n",
       "<table border=\"1\" class=\"dataframe\">\n",
       "  <thead>\n",
       "    <tr style=\"text-align: right;\">\n",
       "      <th>Title</th>\n",
       "      <th>Animal Farm</th>\n",
       "      <th>A Clockwork Orange</th>\n",
       "      <th>The Plague</th>\n",
       "      <th>An Enquiry Concerning Human Understanding</th>\n",
       "      <th>A Fire Upon the Deep</th>\n",
       "      <th>All Quiet on the Western Front</th>\n",
       "      <th>A Wizard of Earthsea</th>\n",
       "      <th>Anyone Can Whistle</th>\n",
       "      <th>Blade Runner 3: Replicant Night</th>\n",
       "      <th>Blade Runner 2: The Edge of Human</th>\n",
       "      <th>...</th>\n",
       "      <th>The Third Lynx</th>\n",
       "      <th>The Birth of Plenty</th>\n",
       "      <th>Remote Control</th>\n",
       "      <th>Telegraph Avenue</th>\n",
       "      <th>The Simpsons: A Complete Guide to Our Favorite Family</th>\n",
       "      <th>Under Wildwood</th>\n",
       "      <th>Transfer of Power</th>\n",
       "      <th>Decoded</th>\n",
       "      <th>America Again: Re-becoming The Greatness We Never Weren't</th>\n",
       "      <th>Poor Folk</th>\n",
       "    </tr>\n",
       "    <tr>\n",
       "      <th>Title</th>\n",
       "      <th></th>\n",
       "      <th></th>\n",
       "      <th></th>\n",
       "      <th></th>\n",
       "      <th></th>\n",
       "      <th></th>\n",
       "      <th></th>\n",
       "      <th></th>\n",
       "      <th></th>\n",
       "      <th></th>\n",
       "      <th></th>\n",
       "      <th></th>\n",
       "      <th></th>\n",
       "      <th></th>\n",
       "      <th></th>\n",
       "      <th></th>\n",
       "      <th></th>\n",
       "      <th></th>\n",
       "      <th></th>\n",
       "      <th></th>\n",
       "      <th></th>\n",
       "    </tr>\n",
       "  </thead>\n",
       "  <tbody>\n",
       "    <tr>\n",
       "      <th>Animal Farm</th>\n",
       "      <td>1.000000</td>\n",
       "      <td>0.032402</td>\n",
       "      <td>0.054776</td>\n",
       "      <td>0.062923</td>\n",
       "      <td>0.042971</td>\n",
       "      <td>0.058354</td>\n",
       "      <td>0.038696</td>\n",
       "      <td>0.035118</td>\n",
       "      <td>0.005864</td>\n",
       "      <td>0.020728</td>\n",
       "      <td>...</td>\n",
       "      <td>0.013241</td>\n",
       "      <td>0.017067</td>\n",
       "      <td>0.011336</td>\n",
       "      <td>0.042341</td>\n",
       "      <td>0.000338</td>\n",
       "      <td>0.016431</td>\n",
       "      <td>0.015461</td>\n",
       "      <td>0.036524</td>\n",
       "      <td>0.005221</td>\n",
       "      <td>0.054879</td>\n",
       "    </tr>\n",
       "    <tr>\n",
       "      <th>A Clockwork Orange</th>\n",
       "      <td>0.032402</td>\n",
       "      <td>1.000000</td>\n",
       "      <td>0.065614</td>\n",
       "      <td>0.039479</td>\n",
       "      <td>0.037548</td>\n",
       "      <td>0.059048</td>\n",
       "      <td>0.050225</td>\n",
       "      <td>0.037587</td>\n",
       "      <td>0.010574</td>\n",
       "      <td>0.027743</td>\n",
       "      <td>...</td>\n",
       "      <td>0.023344</td>\n",
       "      <td>0.009443</td>\n",
       "      <td>0.009108</td>\n",
       "      <td>0.056294</td>\n",
       "      <td>0.010516</td>\n",
       "      <td>0.016207</td>\n",
       "      <td>0.026764</td>\n",
       "      <td>0.042235</td>\n",
       "      <td>0.004955</td>\n",
       "      <td>0.067453</td>\n",
       "    </tr>\n",
       "    <tr>\n",
       "      <th>The Plague</th>\n",
       "      <td>0.054776</td>\n",
       "      <td>0.065614</td>\n",
       "      <td>1.000000</td>\n",
       "      <td>0.072530</td>\n",
       "      <td>0.057941</td>\n",
       "      <td>0.115711</td>\n",
       "      <td>0.077285</td>\n",
       "      <td>0.094549</td>\n",
       "      <td>0.015721</td>\n",
       "      <td>0.039410</td>\n",
       "      <td>...</td>\n",
       "      <td>0.021093</td>\n",
       "      <td>0.018014</td>\n",
       "      <td>0.016617</td>\n",
       "      <td>0.073977</td>\n",
       "      <td>0.004783</td>\n",
       "      <td>0.032229</td>\n",
       "      <td>0.033914</td>\n",
       "      <td>0.068453</td>\n",
       "      <td>0.014684</td>\n",
       "      <td>0.109313</td>\n",
       "    </tr>\n",
       "    <tr>\n",
       "      <th>An Enquiry Concerning Human Understanding</th>\n",
       "      <td>0.062923</td>\n",
       "      <td>0.039479</td>\n",
       "      <td>0.072530</td>\n",
       "      <td>1.000000</td>\n",
       "      <td>0.055485</td>\n",
       "      <td>0.105425</td>\n",
       "      <td>0.053183</td>\n",
       "      <td>0.065588</td>\n",
       "      <td>0.004564</td>\n",
       "      <td>0.029928</td>\n",
       "      <td>...</td>\n",
       "      <td>0.020709</td>\n",
       "      <td>0.034017</td>\n",
       "      <td>0.016519</td>\n",
       "      <td>0.048278</td>\n",
       "      <td>0.024714</td>\n",
       "      <td>0.030544</td>\n",
       "      <td>0.026829</td>\n",
       "      <td>0.053794</td>\n",
       "      <td>0.008835</td>\n",
       "      <td>0.068724</td>\n",
       "    </tr>\n",
       "    <tr>\n",
       "      <th>A Fire Upon the Deep</th>\n",
       "      <td>0.042971</td>\n",
       "      <td>0.037548</td>\n",
       "      <td>0.057941</td>\n",
       "      <td>0.055485</td>\n",
       "      <td>1.000000</td>\n",
       "      <td>0.061516</td>\n",
       "      <td>0.051305</td>\n",
       "      <td>0.036654</td>\n",
       "      <td>0.006629</td>\n",
       "      <td>0.024796</td>\n",
       "      <td>...</td>\n",
       "      <td>0.028784</td>\n",
       "      <td>0.023463</td>\n",
       "      <td>0.015309</td>\n",
       "      <td>0.041965</td>\n",
       "      <td>0.007995</td>\n",
       "      <td>0.024787</td>\n",
       "      <td>0.021257</td>\n",
       "      <td>0.036917</td>\n",
       "      <td>0.004552</td>\n",
       "      <td>0.049648</td>\n",
       "    </tr>\n",
       "  </tbody>\n",
       "</table>\n",
       "<p>5 rows × 16559 columns</p>\n",
       "</div>"
      ],
      "text/plain": [
       "Title                                      Animal Farm  A Clockwork Orange  \\\n",
       "Title                                                                        \n",
       "Animal Farm                                   1.000000            0.032402   \n",
       "A Clockwork Orange                            0.032402            1.000000   \n",
       "The Plague                                    0.054776            0.065614   \n",
       "An Enquiry Concerning Human Understanding     0.062923            0.039479   \n",
       "A Fire Upon the Deep                          0.042971            0.037548   \n",
       "\n",
       "Title                                      The Plague  \\\n",
       "Title                                                   \n",
       "Animal Farm                                  0.054776   \n",
       "A Clockwork Orange                           0.065614   \n",
       "The Plague                                   1.000000   \n",
       "An Enquiry Concerning Human Understanding    0.072530   \n",
       "A Fire Upon the Deep                         0.057941   \n",
       "\n",
       "Title                                      An Enquiry Concerning Human Understanding  \\\n",
       "Title                                                                                  \n",
       "Animal Farm                                                                 0.062923   \n",
       "A Clockwork Orange                                                          0.039479   \n",
       "The Plague                                                                  0.072530   \n",
       "An Enquiry Concerning Human Understanding                                   1.000000   \n",
       "A Fire Upon the Deep                                                        0.055485   \n",
       "\n",
       "Title                                      A Fire Upon the Deep  \\\n",
       "Title                                                             \n",
       "Animal Farm                                            0.042971   \n",
       "A Clockwork Orange                                     0.037548   \n",
       "The Plague                                             0.057941   \n",
       "An Enquiry Concerning Human Understanding              0.055485   \n",
       "A Fire Upon the Deep                                   1.000000   \n",
       "\n",
       "Title                                      All Quiet on the Western Front  \\\n",
       "Title                                                                       \n",
       "Animal Farm                                                      0.058354   \n",
       "A Clockwork Orange                                               0.059048   \n",
       "The Plague                                                       0.115711   \n",
       "An Enquiry Concerning Human Understanding                        0.105425   \n",
       "A Fire Upon the Deep                                             0.061516   \n",
       "\n",
       "Title                                      A Wizard of Earthsea  \\\n",
       "Title                                                             \n",
       "Animal Farm                                            0.038696   \n",
       "A Clockwork Orange                                     0.050225   \n",
       "The Plague                                             0.077285   \n",
       "An Enquiry Concerning Human Understanding              0.053183   \n",
       "A Fire Upon the Deep                                   0.051305   \n",
       "\n",
       "Title                                      Anyone Can Whistle  \\\n",
       "Title                                                           \n",
       "Animal Farm                                          0.035118   \n",
       "A Clockwork Orange                                   0.037587   \n",
       "The Plague                                           0.094549   \n",
       "An Enquiry Concerning Human Understanding            0.065588   \n",
       "A Fire Upon the Deep                                 0.036654   \n",
       "\n",
       "Title                                      Blade Runner 3: Replicant Night  \\\n",
       "Title                                                                        \n",
       "Animal Farm                                                       0.005864   \n",
       "A Clockwork Orange                                                0.010574   \n",
       "The Plague                                                        0.015721   \n",
       "An Enquiry Concerning Human Understanding                         0.004564   \n",
       "A Fire Upon the Deep                                              0.006629   \n",
       "\n",
       "Title                                      Blade Runner 2: The Edge of Human  \\\n",
       "Title                                                                          \n",
       "Animal Farm                                                         0.020728   \n",
       "A Clockwork Orange                                                  0.027743   \n",
       "The Plague                                                          0.039410   \n",
       "An Enquiry Concerning Human Understanding                           0.029928   \n",
       "A Fire Upon the Deep                                                0.024796   \n",
       "\n",
       "Title                                      ...  The Third Lynx  \\\n",
       "Title                                      ...                   \n",
       "Animal Farm                                ...        0.013241   \n",
       "A Clockwork Orange                         ...        0.023344   \n",
       "The Plague                                 ...        0.021093   \n",
       "An Enquiry Concerning Human Understanding  ...        0.020709   \n",
       "A Fire Upon the Deep                       ...        0.028784   \n",
       "\n",
       "Title                                      The Birth of Plenty  \\\n",
       "Title                                                            \n",
       "Animal Farm                                           0.017067   \n",
       "A Clockwork Orange                                    0.009443   \n",
       "The Plague                                            0.018014   \n",
       "An Enquiry Concerning Human Understanding             0.034017   \n",
       "A Fire Upon the Deep                                  0.023463   \n",
       "\n",
       "Title                                      Remote Control  Telegraph Avenue  \\\n",
       "Title                                                                         \n",
       "Animal Farm                                      0.011336          0.042341   \n",
       "A Clockwork Orange                               0.009108          0.056294   \n",
       "The Plague                                       0.016617          0.073977   \n",
       "An Enquiry Concerning Human Understanding        0.016519          0.048278   \n",
       "A Fire Upon the Deep                             0.015309          0.041965   \n",
       "\n",
       "Title                                      The Simpsons: A Complete Guide to Our Favorite Family  \\\n",
       "Title                                                                                              \n",
       "Animal Farm                                                                         0.000338       \n",
       "A Clockwork Orange                                                                  0.010516       \n",
       "The Plague                                                                          0.004783       \n",
       "An Enquiry Concerning Human Understanding                                           0.024714       \n",
       "A Fire Upon the Deep                                                                0.007995       \n",
       "\n",
       "Title                                      Under Wildwood  Transfer of Power  \\\n",
       "Title                                                                          \n",
       "Animal Farm                                      0.016431           0.015461   \n",
       "A Clockwork Orange                               0.016207           0.026764   \n",
       "The Plague                                       0.032229           0.033914   \n",
       "An Enquiry Concerning Human Understanding        0.030544           0.026829   \n",
       "A Fire Upon the Deep                             0.024787           0.021257   \n",
       "\n",
       "Title                                       Decoded  \\\n",
       "Title                                                 \n",
       "Animal Farm                                0.036524   \n",
       "A Clockwork Orange                         0.042235   \n",
       "The Plague                                 0.068453   \n",
       "An Enquiry Concerning Human Understanding  0.053794   \n",
       "A Fire Upon the Deep                       0.036917   \n",
       "\n",
       "Title                                      America Again: Re-becoming The Greatness We Never Weren't  \\\n",
       "Title                                                                                                  \n",
       "Animal Farm                                                                         0.005221           \n",
       "A Clockwork Orange                                                                  0.004955           \n",
       "The Plague                                                                          0.014684           \n",
       "An Enquiry Concerning Human Understanding                                           0.008835           \n",
       "A Fire Upon the Deep                                                                0.004552           \n",
       "\n",
       "Title                                      Poor Folk  \n",
       "Title                                                 \n",
       "Animal Farm                                 0.054879  \n",
       "A Clockwork Orange                          0.067453  \n",
       "The Plague                                  0.109313  \n",
       "An Enquiry Concerning Human Understanding   0.068724  \n",
       "A Fire Upon the Deep                        0.049648  \n",
       "\n",
       "[5 rows x 16559 columns]"
      ]
     },
     "execution_count": 13,
     "metadata": {},
     "output_type": "execute_result"
    }
   ],
   "source": [
    "cos_df = pd.DataFrame(cos_similarity, columns = book_df['Title'], index=book_df['Title'])\n",
    "cos_df.head()"
   ]
  },
  {
   "cell_type": "code",
   "execution_count": 14,
   "metadata": {},
   "outputs": [],
   "source": [
    "def get_recommendation(book_name, number_recommendation = 10):\n",
    "    recommendations = cos_df[book_name].sort_values(ascending=False)[0:1+number_recommendation].index\n",
    "    return recommendations"
   ]
  },
  {
   "cell_type": "code",
   "execution_count": 15,
   "metadata": {},
   "outputs": [
    {
     "data": {
      "text/plain": [
       "Index(['The Plague', 'Gregor and the Curse of the Warmbloods', 'Forest Mage',\n",
       "       'Year of Wonders', 'World without End', 'The Octagonal Raven'],\n",
       "      dtype='object', name='Title')"
      ]
     },
     "execution_count": 15,
     "metadata": {},
     "output_type": "execute_result"
    }
   ],
   "source": [
    "get_recommendation('The Plague',5)"
   ]
  },
  {
   "cell_type": "markdown",
   "metadata": {},
   "source": [
    "### 5. Extract data from cosine similarity to use in web app (due to size of data and memory issue in flask app, only first 5000 rows was extracted)"
   ]
  },
  {
   "cell_type": "code",
   "execution_count": 16,
   "metadata": {},
   "outputs": [
    {
     "data": {
      "text/plain": [
       "(5000, 16559)"
      ]
     },
     "execution_count": 16,
     "metadata": {},
     "output_type": "execute_result"
    }
   ],
   "source": [
    "head_5000 = cos_df.head(5000)\n",
    "head_5000.shape"
   ]
  },
  {
   "cell_type": "code",
   "execution_count": 17,
   "metadata": {},
   "outputs": [],
   "source": [
    "#save cosine similarity to plk file\n",
    "head_5000.to_pickle(\"cos_5000rows.pkl\")"
   ]
  }
 ],
 "metadata": {
  "kernelspec": {
   "display_name": "deeplearning",
   "language": "python",
   "name": "deeplearning"
  },
  "language_info": {
   "codemirror_mode": {
    "name": "ipython",
    "version": 3
   },
   "file_extension": ".py",
   "mimetype": "text/x-python",
   "name": "python",
   "nbconvert_exporter": "python",
   "pygments_lexer": "ipython3",
   "version": "3.6.10"
  }
 },
 "nbformat": 4,
 "nbformat_minor": 4
}
